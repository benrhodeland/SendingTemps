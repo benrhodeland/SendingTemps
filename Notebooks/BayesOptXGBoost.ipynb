{
 "cells": [
  {
   "cell_type": "code",
   "execution_count": 17,
   "metadata": {},
   "outputs": [
    {
     "name": "stdout",
     "output_type": "stream",
     "text": [
      "Found existing installation: pandas 1.0.4\n",
      "Uninstalling pandas-1.0.4:\n",
      "  Successfully uninstalled pandas-1.0.4\n",
      "Collecting pandas\n",
      "  Downloading pandas-1.0.4-cp36-cp36m-manylinux1_x86_64.whl (10.1 MB)\n",
      "\u001b[K     |████████████████████████████████| 10.1 MB 1.8 MB/s eta 0:00:01\n",
      "\u001b[?25hRequirement already satisfied, skipping upgrade: pytz>=2017.2 in /opt/conda/lib/python3.6/site-packages (from pandas) (2017.3)\n",
      "Requirement already satisfied, skipping upgrade: python-dateutil>=2.6.1 in /opt/conda/lib/python3.6/site-packages (from pandas) (2.8.1)\n",
      "Requirement already satisfied, skipping upgrade: numpy>=1.13.3 in /opt/conda/lib/python3.6/site-packages (from pandas) (1.18.4)\n",
      "Requirement already satisfied, skipping upgrade: six>=1.5 in /opt/conda/lib/python3.6/site-packages (from python-dateutil>=2.6.1->pandas) (1.11.0)\n",
      "Installing collected packages: pandas\n",
      "Successfully installed pandas-1.0.4\n",
      "Found existing installation: xgboost 1.1.0\n",
      "Uninstalling xgboost-1.1.0:\n",
      "  Successfully uninstalled xgboost-1.1.0\n",
      "Collecting xgboost\n",
      "  Downloading xgboost-1.1.0-py3-none-manylinux2010_x86_64.whl (127.6 MB)\n",
      "\u001b[K     |████████████████████████████████| 127.6 MB 35.9 MB/s eta 0:00:01    |██████████████████▉             | 75.0 MB 34.4 MB/s eta 0:00:02     |█████████████████████           | 83.4 MB 39.6 MB/s eta 0:00:02     |████████████████████████████▋   | 114.0 MB 39.6 MB/s eta 0:00:01     |█████████████████████████████▋  | 118.1 MB 39.6 MB/s eta 0:00:01\n",
      "\u001b[?25hRequirement already satisfied, skipping upgrade: numpy in /opt/conda/lib/python3.6/site-packages (from xgboost) (1.18.4)\n",
      "Requirement already satisfied, skipping upgrade: scipy in /opt/conda/lib/python3.6/site-packages (from xgboost) (1.4.1)\n",
      "Installing collected packages: xgboost\n",
      "Successfully installed xgboost-1.1.0\n"
     ]
    }
   ],
   "source": [
    "!pip uninstall -y pandas\n",
    "!pip install --upgrade --no-cache-dir pandas\n",
    "!pip uninstall -y xgboost\n",
    "!pip install --upgrade --no-cache-dir xgboost"
   ]
  },
  {
   "cell_type": "code",
   "execution_count": 98,
   "metadata": {},
   "outputs": [
    {
     "name": "stdout",
     "output_type": "stream",
     "text": [
      "Collecting bayesian-optimization\n",
      "  Downloading bayesian-optimization-1.2.0.tar.gz (14 kB)\n",
      "Requirement already satisfied: numpy>=1.9.0 in /opt/conda/lib/python3.7/site-packages (from bayesian-optimization) (1.18.4)\n",
      "Requirement already satisfied: scipy>=0.14.0 in /opt/conda/lib/python3.7/site-packages (from bayesian-optimization) (1.4.1)\n",
      "Requirement already satisfied: scikit-learn>=0.18.0 in /opt/conda/lib/python3.7/site-packages (from bayesian-optimization) (0.23.1)\n",
      "Requirement already satisfied: joblib>=0.11 in /opt/conda/lib/python3.7/site-packages (from scikit-learn>=0.18.0->bayesian-optimization) (0.15.1)\n",
      "Requirement already satisfied: threadpoolctl>=2.0.0 in /opt/conda/lib/python3.7/site-packages (from scikit-learn>=0.18.0->bayesian-optimization) (2.1.0)\n",
      "Building wheels for collected packages: bayesian-optimization\n",
      "  Building wheel for bayesian-optimization (setup.py) ... \u001b[?25ldone\n",
      "\u001b[?25h  Created wheel for bayesian-optimization: filename=bayesian_optimization-1.2.0-py3-none-any.whl size=11684 sha256=dcef4a0ab4cc750dbe11a6021f6ee837e463ec2f40c9bac41370268a829315f6\n",
      "  Stored in directory: /home/jovyan/.cache/pip/wheels/fd/9b/71/f127d694e02eb40bcf18c7ae9613b88a6be4470f57a8528c5b\n",
      "Successfully built bayesian-optimization\n",
      "Installing collected packages: bayesian-optimization\n",
      "Successfully installed bayesian-optimization-1.2.0\n"
     ]
    }
   ],
   "source": [
    "!pip install bayesian-optimization"
   ]
  },
  {
   "cell_type": "code",
   "execution_count": 1,
   "metadata": {},
   "outputs": [],
   "source": [
    "import numpy as np\n",
    "# import pandas as pd\n",
    "from sklearn.model_selection import train_test_split, KFold\n",
    "import pickle\n",
    "import xgboost as xgb\n",
    "# from sklearn.linear_model import LinearRegression\n",
    "# from sklearn import tree\n",
    "from sklearn.metrics import accuracy_score\n",
    "\n",
    "from sklearn.metrics import precision_recall_fscore_support\n",
    "import warnings\n",
    "\n",
    "import matplotlib.pyplot as plt\n",
    "\n",
    "from bayes_opt import BayesianOptimization\n",
    "# from sklearn.metrics import mean_squared_error\n",
    "\n",
    "# from sklearn.metrics import r2_score"
   ]
  },
  {
   "cell_type": "code",
   "execution_count": 2,
   "metadata": {},
   "outputs": [],
   "source": [
    "data = pickle.load(open('./fullxy_15day.pkl',mode='rb'))"
   ]
  },
  {
   "cell_type": "code",
   "execution_count": 3,
   "metadata": {},
   "outputs": [
    {
     "data": {
      "text/plain": [
       "array([0, 1])"
      ]
     },
     "execution_count": 3,
     "metadata": {},
     "output_type": "execute_result"
    }
   ],
   "source": [
    "x = data[0]\n",
    "y = data[1] > 0\n",
    "y = y.astype('int')\n",
    "np.unique(y)"
   ]
  },
  {
   "cell_type": "code",
   "execution_count": 4,
   "metadata": {},
   "outputs": [],
   "source": [
    "X_train, X_test, y_train, y_test = train_test_split(x,y, test_size=.3,random_state=42)"
   ]
  },
  {
   "cell_type": "code",
   "execution_count": 5,
   "metadata": {},
   "outputs": [
    {
     "data": {
      "text/plain": [
       "((3604, 60), (3604,), (1545, 60), (1545,))"
      ]
     },
     "execution_count": 5,
     "metadata": {},
     "output_type": "execute_result"
    }
   ],
   "source": [
    "X_train.shape, y_train.shape, X_test.shape, y_test.shape"
   ]
  },
  {
   "cell_type": "code",
   "execution_count": 10,
   "metadata": {},
   "outputs": [
    {
     "data": {
      "text/plain": [
       "XGBClassifier(base_score=0.5, booster='gbtree', colsample_bylevel=1,\n",
       "              colsample_bynode=1, colsample_bytree=0.95, gamma=0, gpu_id=-1,\n",
       "              importance_type='gain', interaction_constraints='',\n",
       "              learning_rate=0.05, max_delta_step=0, max_depth=3,\n",
       "              min_child_weight=1, missing=nan, monotone_constraints='()',\n",
       "              n_estimators=2000, n_jobs=0, num_parallel_tree=1, random_state=0,\n",
       "              reg_alpha=0, reg_lambda=1, scale_pos_weight=1, subsample=0.95,\n",
       "              tree_method='exact', validate_parameters=1, verbosity=None)"
      ]
     },
     "execution_count": 10,
     "metadata": {},
     "output_type": "execute_result"
    }
   ],
   "source": [
    "eval_set =[(X_test, y_test)]\n",
    "xg = xgb.XGBClassifier(colsample_bytree=0.95,\n",
    "                       subsample = 0.95,\n",
    "                       n_estimators = 2000, \n",
    "                       max_depth=3,\n",
    "                       learning_rate = 0.05)\n",
    "xg.fit(X_train,y_train, eval_metric=\"rmse\", eval_set=eval_set, verbose=False)"
   ]
  },
  {
   "cell_type": "code",
   "execution_count": 11,
   "metadata": {},
   "outputs": [
    {
     "name": "stdout",
     "output_type": "stream",
     "text": [
      "Precision: 0.6837\n",
      "Recall:    0.6923\n",
      "F1-score:  0.6880\n"
     ]
    }
   ],
   "source": [
    "y_pred = xg.predict(X_test)\n",
    "y_post = xg.predict(X_train)\n",
    "\n",
    "precision, recall, fscore, _ = precision_recall_fscore_support(y_test, y_pred, average='binary')\n",
    "print('Precision: %.4f' % precision)\n",
    "print('Recall:    %.4f' % recall)\n",
    "print('F1-score:  %.4f' % fscore)"
   ]
  },
  {
   "cell_type": "code",
   "execution_count": 12,
   "metadata": {},
   "outputs": [
    {
     "name": "stdout",
     "output_type": "stream",
     "text": [
      "Test accuracy 67.77%\n",
      "Train accuracy 98.70%\n"
     ]
    }
   ],
   "source": [
    "accuracy = accuracy_score(y_test, y_pred)\n",
    "print(f'Test accuracy %.2f%%' % (accuracy*100.0))\n",
    "\n",
    "accuracy = accuracy_score(y_train, y_post)\n",
    "print(f'Train accuracy %.2f%%' % (accuracy*100.0))"
   ]
  },
  {
   "cell_type": "code",
   "execution_count": 13,
   "metadata": {},
   "outputs": [
    {
     "data": {
      "image/png": "[encoded data removed]",
      "text/plain": [
       "<Figure size 1008x504 with 1 Axes>"
      ]
     },
     "metadata": {
      "needs_background": "light"
     },
     "output_type": "display_data"
    }
   ],
   "source": [
    "plt.rcParams[\"figure.figsize\"] = (14, 7)\n",
    "fig = xgb.plot_importance(xg)"
   ]
  },
  {
   "cell_type": "code",
   "execution_count": 14,
   "metadata": {},
   "outputs": [],
   "source": [
    "#Bayesian Optimization function for xgboost\n",
    "#specify the parameters you want to tune as keyword arguments\n",
    "def bo_tune_xgb(max_depth, gamma, n_estimators ,learning_rate, subsample):\n",
    "    params = {'max_depth': int(max_depth),\n",
    "              'gamma': gamma, #'n_estimators': int(n_estimators),\n",
    "              'learning_rate':learning_rate,\n",
    "              'subsample': subsample,\n",
    "              'eta': 0.1,\n",
    "              'eval_metric': 'rmse'}\n",
    "    \n",
    "    #Cross validating with the specified parameters in 4 folds and 200000 iterations\n",
    "    cv_result = xgb.cv(params,dtrain, num_boost_round=200000, nfold=4, early_stopping_rounds = 100)\n",
    "    \n",
    "    #print(cv_result.columns)\n",
    "    \n",
    "    #Return the negative RMSE (so that the 'maximum' value means the lowest RMSE (least negative))\n",
    "    return -1.0 * cv_result['test-rmse-mean'].iloc[-1]"
   ]
  },
  {
   "cell_type": "code",
   "execution_count": 16,
   "metadata": {},
   "outputs": [],
   "source": [
    "#put test/train data into \"DMatrix\" format for ease of use within XGBoost\n",
    "dtrain = xgb.DMatrix(X_train, label=y_train)\n",
    "dtest = xgb.DMatrix(X_test, label=y_test)"
   ]
  },
  {
   "cell_type": "code",
   "execution_count": 17,
   "metadata": {},
   "outputs": [
    {
     "name": "stdout",
     "output_type": "stream",
     "text": [
      "|   iter    |  target   |   gamma   | learni... | max_depth | n_esti... | subsample |\n",
      "-------------------------------------------------------------------------------------\n",
      "| \u001b[0m 1       \u001b[0m | \u001b[0m-0.552   \u001b[0m | \u001b[0m 0.2212  \u001b[0m | \u001b[0m 0.7793  \u001b[0m | \u001b[0m 18.33   \u001b[0m | \u001b[0m 3.675e+0\u001b[0m | \u001b[0m 0.9311  \u001b[0m |\n",
      "| \u001b[95m 2       \u001b[0m | \u001b[95m-0.4691  \u001b[0m | \u001b[95m 0.4673  \u001b[0m | \u001b[95m 0.01515 \u001b[0m | \u001b[95m 9.334   \u001b[0m | \u001b[95m 3.995e+0\u001b[0m | \u001b[95m 0.5847  \u001b[0m |\n",
      "| \u001b[0m 3       \u001b[0m | \u001b[0m-0.5044  \u001b[0m | \u001b[0m 0.01259 \u001b[0m | \u001b[0m 0.6883  \u001b[0m | \u001b[0m 8.296   \u001b[0m | \u001b[0m 3.083e+0\u001b[0m | \u001b[0m 0.8489  \u001b[0m |\n",
      "| \u001b[0m 4       \u001b[0m | \u001b[0m-0.4835  \u001b[0m | \u001b[0m 0.4646  \u001b[0m | \u001b[0m 0.1605  \u001b[0m | \u001b[0m 17.88   \u001b[0m | \u001b[0m 885.5   \u001b[0m | \u001b[0m 0.6074  \u001b[0m |\n",
      "| \u001b[0m 5       \u001b[0m | \u001b[0m-0.5371  \u001b[0m | \u001b[0m 0.1771  \u001b[0m | \u001b[0m 0.7316  \u001b[0m | \u001b[0m 14.34   \u001b[0m | \u001b[0m 1.491e+0\u001b[0m | \u001b[0m 0.6207  \u001b[0m |\n",
      "| \u001b[0m 6       \u001b[0m | \u001b[0m-0.4927  \u001b[0m | \u001b[0m 0.4512  \u001b[0m | \u001b[0m 0.3367  \u001b[0m | \u001b[0m 14.1    \u001b[0m | \u001b[0m 1.712e+0\u001b[0m | \u001b[0m 0.8922  \u001b[0m |\n",
      "| \u001b[0m 7       \u001b[0m | \u001b[0m-0.4796  \u001b[0m | \u001b[0m 0.19    \u001b[0m | \u001b[0m 0.1666  \u001b[0m | \u001b[0m 17.35   \u001b[0m | \u001b[0m 2.076e+0\u001b[0m | \u001b[0m 0.793   \u001b[0m |\n",
      "| \u001b[0m 8       \u001b[0m | \u001b[0m-0.5011  \u001b[0m | \u001b[0m 0.3245  \u001b[0m | \u001b[0m 0.2754  \u001b[0m | \u001b[0m 15.81   \u001b[0m | \u001b[0m 2.076e+0\u001b[0m | \u001b[0m 0.4432  \u001b[0m |\n",
      "| \u001b[0m 9       \u001b[0m | \u001b[0m-0.5249  \u001b[0m | \u001b[0m 0.4719  \u001b[0m | \u001b[0m 0.6228  \u001b[0m | \u001b[0m 11.22   \u001b[0m | \u001b[0m 3.997e+0\u001b[0m | \u001b[0m 0.5102  \u001b[0m |\n",
      "| \u001b[0m 10      \u001b[0m | \u001b[0m-0.5502  \u001b[0m | \u001b[0m 0.1077  \u001b[0m | \u001b[0m 0.7636  \u001b[0m | \u001b[0m 16.75   \u001b[0m | \u001b[0m 2.075e+0\u001b[0m | \u001b[0m 0.6575  \u001b[0m |\n",
      "| \u001b[95m 11      \u001b[0m | \u001b[95m-0.467   \u001b[0m | \u001b[95m 0.185   \u001b[0m | \u001b[95m 0.0323  \u001b[0m | \u001b[95m 13.87   \u001b[0m | \u001b[95m 1.119e+0\u001b[0m | \u001b[95m 0.9584  \u001b[0m |\n",
      "| \u001b[0m 12      \u001b[0m | \u001b[0m-0.4879  \u001b[0m | \u001b[0m 0.2542  \u001b[0m | \u001b[0m 0.2186  \u001b[0m | \u001b[0m 8.353   \u001b[0m | \u001b[0m 2.444e+0\u001b[0m | \u001b[0m 0.7719  \u001b[0m |\n",
      "| \u001b[95m 13      \u001b[0m | \u001b[95m-0.4649  \u001b[0m | \u001b[95m 0.04377 \u001b[0m | \u001b[95m 0.04625 \u001b[0m | \u001b[95m 18.98   \u001b[0m | \u001b[95m 712.5   \u001b[0m | \u001b[95m 0.7587  \u001b[0m |\n",
      "| \u001b[0m 14      \u001b[0m | \u001b[0m-0.5844  \u001b[0m | \u001b[0m 0.1803  \u001b[0m | \u001b[0m 0.8725  \u001b[0m | \u001b[0m 17.02   \u001b[0m | \u001b[0m 1.935e+0\u001b[0m | \u001b[0m 0.5302  \u001b[0m |\n",
      "| \u001b[0m 15      \u001b[0m | \u001b[0m-0.485   \u001b[0m | \u001b[0m 0.3365  \u001b[0m | \u001b[0m 0.1204  \u001b[0m | \u001b[0m 4.513   \u001b[0m | \u001b[0m 4.087e+0\u001b[0m | \u001b[0m 0.6059  \u001b[0m |\n",
      "| \u001b[0m 16      \u001b[0m | \u001b[0m-0.5072  \u001b[0m | \u001b[0m 0.3277  \u001b[0m | \u001b[0m 0.4964  \u001b[0m | \u001b[0m 10.86   \u001b[0m | \u001b[0m 2.354e+0\u001b[0m | \u001b[0m 0.4658  \u001b[0m |\n",
      "| \u001b[95m 17      \u001b[0m | \u001b[95m-0.4641  \u001b[0m | \u001b[95m 0.2643  \u001b[0m | \u001b[95m 0.02509 \u001b[0m | \u001b[95m 17.71   \u001b[0m | \u001b[95m 2.076e+0\u001b[0m | \u001b[95m 0.8097  \u001b[0m |\n",
      "| \u001b[0m 18      \u001b[0m | \u001b[0m-0.4795  \u001b[0m | \u001b[0m 0.237   \u001b[0m | \u001b[0m 0.1962  \u001b[0m | \u001b[0m 8.532   \u001b[0m | \u001b[0m 3.995e+0\u001b[0m | \u001b[0m 0.9037  \u001b[0m |\n",
      "| \u001b[0m 19      \u001b[0m | \u001b[0m-0.5282  \u001b[0m | \u001b[0m 0.2673  \u001b[0m | \u001b[0m 0.9807  \u001b[0m | \u001b[0m 8.773   \u001b[0m | \u001b[0m 3.995e+0\u001b[0m | \u001b[0m 0.7508  \u001b[0m |\n",
      "| \u001b[0m 20      \u001b[0m | \u001b[0m-0.489   \u001b[0m | \u001b[0m 0.07865 \u001b[0m | \u001b[0m 0.2056  \u001b[0m | \u001b[0m 4.13    \u001b[0m | \u001b[0m 4.086e+0\u001b[0m | \u001b[0m 0.412   \u001b[0m |\n",
      "| \u001b[0m 21      \u001b[0m | \u001b[0m-0.4871  \u001b[0m | \u001b[0m 0.09441 \u001b[0m | \u001b[0m 0.271   \u001b[0m | \u001b[0m 14.58   \u001b[0m | \u001b[0m 1.119e+0\u001b[0m | \u001b[0m 0.9998  \u001b[0m |\n",
      "| \u001b[0m 22      \u001b[0m | \u001b[0m-0.5165  \u001b[0m | \u001b[0m 0.1898  \u001b[0m | \u001b[0m 0.5246  \u001b[0m | \u001b[0m 19.09   \u001b[0m | \u001b[0m 712.9   \u001b[0m | \u001b[0m 0.6586  \u001b[0m |\n",
      "| \u001b[0m 23      \u001b[0m | \u001b[0m-0.4731  \u001b[0m | \u001b[0m 0.48    \u001b[0m | \u001b[0m 0.06493 \u001b[0m | \u001b[0m 18.2    \u001b[0m | \u001b[0m 712.6   \u001b[0m | \u001b[0m 0.5804  \u001b[0m |\n",
      "| \u001b[0m 24      \u001b[0m | \u001b[0m-0.4827  \u001b[0m | \u001b[0m 0.177   \u001b[0m | \u001b[0m 0.002708\u001b[0m | \u001b[0m 3.5     \u001b[0m | \u001b[0m 3.727e+0\u001b[0m | \u001b[0m 0.988   \u001b[0m |\n",
      "| \u001b[0m 25      \u001b[0m | \u001b[0m-0.5445  \u001b[0m | \u001b[0m 0.2232  \u001b[0m | \u001b[0m 0.7002  \u001b[0m | \u001b[0m 16.78   \u001b[0m | \u001b[0m 2.021e+0\u001b[0m | \u001b[0m 0.8282  \u001b[0m |\n",
      "| \u001b[0m 26      \u001b[0m | \u001b[0m-0.4866  \u001b[0m | \u001b[0m 0.2209  \u001b[0m | \u001b[0m 0.2457  \u001b[0m | \u001b[0m 18.3    \u001b[0m | \u001b[0m 712.0   \u001b[0m | \u001b[0m 0.8234  \u001b[0m |\n",
      "| \u001b[0m 27      \u001b[0m | \u001b[0m-0.4647  \u001b[0m | \u001b[0m 0.04639 \u001b[0m | \u001b[0m 0.03422 \u001b[0m | \u001b[0m 14.14   \u001b[0m | \u001b[0m 1.119e+0\u001b[0m | \u001b[0m 0.6538  \u001b[0m |\n",
      "| \u001b[0m 28      \u001b[0m | \u001b[0m-0.4913  \u001b[0m | \u001b[0m 0.1378  \u001b[0m | \u001b[0m 0.7958  \u001b[0m | \u001b[0m 3.764   \u001b[0m | \u001b[0m 4.087e+0\u001b[0m | \u001b[0m 0.9561  \u001b[0m |\n",
      "| \u001b[0m 29      \u001b[0m | \u001b[0m-0.4774  \u001b[0m | \u001b[0m 0.279   \u001b[0m | \u001b[0m 0.1582  \u001b[0m | \u001b[0m 13.04   \u001b[0m | \u001b[0m 1.12e+03\u001b[0m | \u001b[0m 0.9135  \u001b[0m |\n",
      "| \u001b[0m 30      \u001b[0m | \u001b[0m-0.4678  \u001b[0m | \u001b[0m 0.4028  \u001b[0m | \u001b[0m 0.004175\u001b[0m | \u001b[0m 9.091   \u001b[0m | \u001b[0m 3.994e+0\u001b[0m | \u001b[0m 0.5231  \u001b[0m |\n",
      "| \u001b[0m 31      \u001b[0m | \u001b[0m-0.4926  \u001b[0m | \u001b[0m 0.08689 \u001b[0m | \u001b[0m 0.256   \u001b[0m | \u001b[0m 17.67   \u001b[0m | \u001b[0m 713.0   \u001b[0m | \u001b[0m 0.568   \u001b[0m |\n",
      "| \u001b[0m 32      \u001b[0m | \u001b[0m-0.5329  \u001b[0m | \u001b[0m 0.3524  \u001b[0m | \u001b[0m 0.6438  \u001b[0m | \u001b[0m 14.13   \u001b[0m | \u001b[0m 1.118e+0\u001b[0m | \u001b[0m 0.5419  \u001b[0m |\n",
      "=====================================================================================\n"
     ]
    }
   ],
   "source": [
    "#Invoking the Bayesian Optimizer with the specified parameters to tune\n",
    "xgb_bo = BayesianOptimization(bo_tune_xgb, {'max_depth': (3, 20),\n",
    "                                             'gamma': (0, .5),\n",
    "                                             'learning_rate':(0,1),\n",
    "                                             'n_estimators':(15,4200),\n",
    "                                             'subsample':(0.4,1)\n",
    "                                            },)\n",
    "\n",
    "#performing Bayesian optimization for 250 exploitation iterations with 75 steps of random exploration with an \n",
    "#acquisition function of 'expected improvement'\n",
    "with warnings.catch_warnings():\n",
    "    warnings.filterwarnings('ignore')\n",
    "    xgb_bo.maximize(n_iter=25, init_points=7, acq='ei')"
   ]
  },
  {
   "cell_type": "code",
   "execution_count": 18,
   "metadata": {},
   "outputs": [
    {
     "name": "stdout",
     "output_type": "stream",
     "text": [
      "gamma \t : 0.2643\n",
      "learning_rate \t : 0.0251\n",
      "max_depth \t : 18.0000\n",
      "n_estimators \t : 2076.0000\n",
      "subsample \t : 0.8097\n"
     ]
    }
   ],
   "source": [
    "keep_params = xgb_bo.max['params']\n",
    "fix_params = keep_params\n",
    "fix_params['max_depth'] = round(fix_params['max_depth']).astype(int)\n",
    "fix_params['n_estimators'] = round(fix_params['n_estimators']).astype(int)\n",
    "\n",
    "for key, val in fix_params.items():\n",
    "    print(key,'\\t : %0.4f' % val)"
   ]
  },
  {
   "cell_type": "code",
   "execution_count": 19,
   "metadata": {},
   "outputs": [
    {
     "data": {
      "text/plain": [
       "XGBClassifier(base_score=0.5, booster='gbtree', colsample_bylevel=1,\n",
       "              colsample_bynode=1, colsample_bytree=1, gamma=0.26432536340001966,\n",
       "              gpu_id=-1, importance_type='gain', interaction_constraints='',\n",
       "              learning_rate=0.025094586325093204, max_delta_step=0,\n",
       "              max_depth=18, min_child_weight=1, missing=nan,\n",
       "              monotone_constraints='()', n_estimators=2076, n_jobs=0,\n",
       "              num_parallel_tree=1, random_state=0, reg_alpha=0, reg_lambda=1,\n",
       "              scale_pos_weight=1, subsample=0.8096907648031735,\n",
       "              tree_method='exact', validate_parameters=1, verbosity=None)"
      ]
     },
     "execution_count": 19,
     "metadata": {},
     "output_type": "execute_result"
    }
   ],
   "source": [
    "eval_set =[(X_test, y_test)]\n",
    "\n",
    "# create an XGB classifier model with parameters learned through Bayesian Optimization\n",
    "xg = xgb.XGBClassifier(**fix_params)\n",
    "xg.fit(X_train,y_train, eval_metric=\"error\", eval_set=eval_set, verbose=False)"
   ]
  },
  {
   "cell_type": "code",
   "execution_count": 22,
   "metadata": {},
   "outputs": [
    {
     "name": "stdout",
     "output_type": "stream",
     "text": [
      "Precision: 0.6972\n",
      "Recall:    0.7289\n",
      "F1-score:  0.7127\n"
     ]
    }
   ],
   "source": [
    "y_pred = xg.predict(X_test)\n",
    "y_post = xg.predict(X_train)\n",
    "\n",
    "precision, recall, fscore, _ = precision_recall_fscore_support(y_test, y_pred, average='binary')\n",
    "print('Precision: %.4f' % precision)\n",
    "print('Recall:    %.4f' % recall)\n",
    "print('F1-score:  %.4f' % fscore)"
   ]
  },
  {
   "cell_type": "code",
   "execution_count": 23,
   "metadata": {},
   "outputs": [
    {
     "name": "stdout",
     "output_type": "stream",
     "text": [
      "Test accuracy 69.84%\n",
      "Train accuracy 100.00%\n"
     ]
    }
   ],
   "source": [
    "\n",
    "accuracy = accuracy_score(y_test, y_pred)\n",
    "print(f'Test accuracy %.2f%%' % (accuracy*100.0))\n",
    "\n",
    "accuracy = accuracy_score(y_train, y_post)\n",
    "print(f'Train accuracy %.2f%%' % (accuracy*100.0))"
   ]
  },
  {
   "cell_type": "code",
   "execution_count": 268,
   "metadata": {},
   "outputs": [],
   "source": [
    "# uncomment to save model\n",
    "#pickle.dump(xg,open(\"xgmodel_15day.pkl\",mode='wb'))"
   ]
  },
  {
   "cell_type": "code",
   "execution_count": null,
   "metadata": {},
   "outputs": [],
   "source": []
  }
 ],
 "metadata": {
  "kernelspec": {
   "display_name": "Python 3",
   "language": "python",
   "name": "python3"
  },
  "language_info": {
   "codemirror_mode": {
    "name": "ipython",
    "version": 3
   },
   "file_extension": ".py",
   "mimetype": "text/x-python",
   "name": "python",
   "nbconvert_exporter": "python",
   "pygments_lexer": "ipython3",
   "version": "3.7.6"
  }
 },
 "nbformat": 4,
 "nbformat_minor": 4
}
