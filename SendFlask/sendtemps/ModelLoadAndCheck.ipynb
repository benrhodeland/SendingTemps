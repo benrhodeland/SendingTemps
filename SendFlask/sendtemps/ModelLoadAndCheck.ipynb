{
 "cells": [
  {
   "cell_type": "code",
   "execution_count": 1,
   "metadata": {},
   "outputs": [],
   "source": [
    "import numpy as np\n",
    "import pandas as pd\n",
    "#from sklearn.model_selection import train_test_split, KFold\n",
    "import pickle\n",
    "import xgboost as xgb\n",
    "#from sklearn.linear_model import LinearRegression\n",
    "#from sklearn import tree\n",
    "#from sklearn.metrics import accuracy_score\n",
    "\n",
    "import matplotlib.pyplot as plt\n",
    "\n",
    "#from bayes_opt import BayesianOptimization\n",
    "#from sklearn.metrics import mean_squared_error"
   ]
  },
  {
   "cell_type": "code",
   "execution_count": 2,
   "metadata": {},
   "outputs": [
    {
     "data": {
      "text/plain": [
       "array([0, 1])"
      ]
     },
     "execution_count": 2,
     "metadata": {},
     "output_type": "execute_result"
    }
   ],
   "source": [
    "xg = pickle.load(open('./xgmodel_MVP.pkl',mode='rb'))\n",
    "data = pickle.load(open('./fullxy_5day.pkl',mode='rb'))\n",
    "x = data[0]\n",
    "y = data[1] > 0\n",
    "y = y.astype('int')\n",
    "np.unique(y)"
   ]
  },
  {
   "cell_type": "code",
   "execution_count": 3,
   "metadata": {},
   "outputs": [],
   "source": [
    "basefeat = ['day-5'] * 4 + ['day-4'] * 4 + ['day-3'] * 4 + ['day-2'] * 4 + ['day-1'] * 4\n",
    "for idx,thing in zip(range(4),['snow', 'prcp','tmin','tmax']):\n",
    "    for day in range(5):\n",
    "        basefeat[idx+4*day] = basefeat[idx+4*day]+'_'+thing"
   ]
  },
  {
   "cell_type": "code",
   "execution_count": 37,
   "metadata": {},
   "outputs": [
    {
     "name": "stdout",
     "output_type": "stream",
     "text": [
      "Sample:  3284\n",
      "Predicted class: 0  with probability 97.94%\n",
      "Actual class:    0\n"
     ]
    }
   ],
   "source": [
    "#dmat = xgb.DMatrix(np.array([x[5,:]]),label=None, feature_names=basefeat)\n",
    "sample = np.random.choice(np.arange(0,len(x)));\n",
    "\n",
    "probs = xg.predict_proba(np.array([x[sample,:]]))\n",
    "\n",
    "print('Sample: ',sample)\n",
    "print('Predicted class:',np.argmax(probs), ' with probability %.2f%%' % (np.max(probs) * 100))\n",
    "print('Actual class:   ',y[sample])"
   ]
  },
  {
   "cell_type": "code",
   "execution_count": null,
   "metadata": {},
   "outputs": [],
   "source": []
  },
  {
   "cell_type": "code",
   "execution_count": null,
   "metadata": {},
   "outputs": [],
   "source": []
  }
 ],
 "metadata": {
  "kernelspec": {
   "display_name": "Python 3",
   "language": "python",
   "name": "python3"
  },
  "language_info": {
   "codemirror_mode": {
    "name": "ipython",
    "version": 3
   },
   "file_extension": ".py",
   "mimetype": "text/x-python",
   "name": "python",
   "nbconvert_exporter": "python",
   "pygments_lexer": "ipython3",
   "version": "3.7.6"
  }
 },
 "nbformat": 4,
 "nbformat_minor": 4
}
